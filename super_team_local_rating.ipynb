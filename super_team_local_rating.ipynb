{
 "cells": [
  {
   "cell_type": "markdown",
   "metadata": {},
   "source": [
    "# Ideas\n",
    "* Days super team plays \n",
    "* Super team avgs \n",
    "* Average of super team duals\n",
    "* Days super teams don't play\n",
    "* Average of rating no super teams "
   ]
  },
  {
   "cell_type": "code",
   "execution_count": null,
   "metadata": {},
   "outputs": [],
   "source": [
    "import numpy as np\n",
    "import matplotlib.pylab as plt\n",
    "import seaborn as sns\n",
    "import pandas as pd\n",
    "%matplotlib notebook"
   ]
  },
  {
   "cell_type": "code",
   "execution_count": null,
   "metadata": {},
   "outputs": [],
   "source": [
    "super_flag = pd.read_csv('lm_dataset.csv')\n",
    "inds = super_flag[\"superteam_flg\"]==1\n",
    "superteams = super_flag[inds] # lists the qualifying superteams\n",
    "# superteams[[\"Season\",\"Team\"]]"
   ]
  },
  {
   "cell_type": "code",
   "execution_count": null,
   "metadata": {
    "scrolled": true
   },
   "outputs": [],
   "source": [
    "tvs = pd.read_csv('DMA_Households.csv')\n",
    "local = pd.read_csv('RSN_Ratings_by_Game.csv')\n",
    "\n",
    "a = ~(local['HH RTG'].isnull() & local['HH RTG.1'].isnull() )\n",
    "\n",
    "\n",
    "real_local = local[a] # checks if both local stations are showing the game (for TOR sake)\n",
    "real_local[[\"HH RTG\",\"HH RTG.1\"]] = real_local[[\"HH RTG\",\"HH RTG.1\"]].apply(pd.to_numeric, errors = 'coerce')"
   ]
  },
  {
   "cell_type": "markdown",
   "metadata": {},
   "source": [
    "### Sort"
   ]
  },
  {
   "cell_type": "code",
   "execution_count": null,
   "metadata": {},
   "outputs": [],
   "source": [
    "y = '2014-15'\n",
    "\n",
    "filter1 = real_local[\"HOME\"].isin(superteams[superteams['Season']==y][\"Team\"]) \n",
    "filter2 = real_local[\"AWAY\"].isin(superteams[superteams['Season']==y][\"Team\"])\n",
    "filter3 = real_local[\"Season\"]==y\n",
    "master_filter = (filter1|filter2)&filter3\n",
    "other_filter = (~filter1&~filter2)&filter3\n",
    "y1 = real_local[master_filter]\n",
    "y1o = real_local[other_filter]\n",
    "\n",
    "y = '2015-16'\n",
    "\n",
    "filter1 = real_local[\"HOME\"].isin(superteams[superteams['Season']==y][\"Team\"]) \n",
    "filter2 = real_local[\"AWAY\"].isin(superteams[superteams['Season']==y][\"Team\"])\n",
    "filter3 = real_local[\"Season\"]==y\n",
    "master_filter = (filter1|filter2)&filter3\n",
    "other_filter = (~filter1&~filter2)&filter3\n",
    "\n",
    "y2 = real_local[master_filter]\n",
    "y2o = real_local[other_filter]\n",
    "\n",
    "y = '2016-17'\n",
    "\n",
    "filter1 = real_local[\"HOME\"].isin(superteams[superteams['Season']==y][\"Team\"]) \n",
    "filter2 = real_local[\"AWAY\"].isin(superteams[superteams['Season']==y][\"Team\"])\n",
    "filter3 = real_local[\"Season\"]==y\n",
    "master_filter = (filter1|filter2)&filter3\n",
    "other_filter = (~filter1&~filter2)&filter3\n",
    "\n",
    "y3 = real_local[master_filter]\n",
    "y3o = real_local[other_filter]\n",
    "\n",
    "\n",
    "y = '2017-18'\n",
    "\n",
    "filter1 = real_local[\"HOME\"].isin(superteams[superteams['Season']==y][\"Team\"]) \n",
    "filter2 = real_local[\"AWAY\"].isin(superteams[superteams['Season']==y][\"Team\"])\n",
    "filter3 = real_local[\"Season\"]==y\n",
    "master_filter = (filter1|filter2)&filter3\n",
    "other_filter = (~filter1&~filter2)&filter3\n",
    "y4 = real_local[master_filter]\n",
    "y4o = real_local[other_filter]\n",
    "\n",
    "\n",
    "frames = [y1,y2,y3,y4]\n",
    "st_index = pd.concat(frames)\n",
    "frames = [y1o,y2o,y3o,y4o]\n",
    "other_index = pd.concat(frames)"
   ]
  },
  {
   "cell_type": "code",
   "execution_count": null,
   "metadata": {},
   "outputs": [],
   "source": [
    "s_order = ['2014-15','2015-16','2016-17','2017-18']"
   ]
  },
  {
   "cell_type": "code",
   "execution_count": null,
   "metadata": {},
   "outputs": [],
   "source": [
    "st_index"
   ]
  },
  {
   "cell_type": "markdown",
   "metadata": {},
   "source": [
    "### Heatmap"
   ]
  },
  {
   "cell_type": "code",
   "execution_count": null,
   "metadata": {},
   "outputs": [],
   "source": [
    "htmap  = real_local.pivot_table(index=\"AWAY\",columns=\"HOME\",values=\"HH RTG.1\")\n",
    "plt.figure(figsize=(10,8))\n",
    "sns.heatmap(htmap)\n",
    "plt.title('HeatMap of Local Ratings (Home Network)')\n",
    "plt.savefig('../Downloads/heatmap.png')"
   ]
  },
  {
   "cell_type": "code",
   "execution_count": null,
   "metadata": {},
   "outputs": [],
   "source": [
    "# real_local[\"HH RTG\"]"
   ]
  }
 ],
 "metadata": {
  "kernelspec": {
   "display_name": "Python 3",
   "language": "python",
   "name": "python3"
  },
  "language_info": {
   "codemirror_mode": {
    "name": "ipython",
    "version": 3
   },
   "file_extension": ".py",
   "mimetype": "text/x-python",
   "name": "python",
   "nbconvert_exporter": "python",
   "pygments_lexer": "ipython3",
   "version": "3.5.2"
  }
 },
 "nbformat": 4,
 "nbformat_minor": 2
}
