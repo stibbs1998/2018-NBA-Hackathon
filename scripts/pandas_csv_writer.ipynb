{
 "cells": [
  {
   "cell_type": "code",
   "execution_count": null,
   "metadata": {},
   "outputs": [],
   "source": [
    "import numpy as np\n",
    "import matplotlib.pylab as plt\n",
    "from operator import itemgetter\n",
    "import pandas as pd"
   ]
  },
  {
   "cell_type": "code",
   "execution_count": null,
   "metadata": {},
   "outputs": [],
   "source": [
    "natl = np.loadtxt('../National_Ratings_by_Game.csv',dtype=str,delimiter=',')\n",
    "teams,tvs = np.loadtxt('../DMA_Households.csv',dtype=str,delimiter=',',skiprows=1,unpack=True)"
   ]
  },
  {
   "cell_type": "code",
   "execution_count": null,
   "metadata": {},
   "outputs": [],
   "source": [
    "data_dict = {}\n",
    "data_dict['Team'] = []\n",
    "data_dict['Nat\\'l Average'] = []\n",
    "data_dict['Avg Rating Same Night'] = []\n",
    "data_dict['Team Average Rating'] = []\n",
    "data_dict['Season'] = []\n",
    "data_dict['Delta Avg'] = []\n",
    "xticks = ['2014-15','2015-16','2016-17','2017-18']\n",
    "\n",
    "\n",
    "for team in teams:\n",
    "    \n",
    "    gs = team\n",
    "    home = natl[:,7]==gs\n",
    "    away = natl[:,8]==gs\n",
    "    played = np.logical_or(away,home)\n",
    "    all_dates = natl[:,3] # haystack\n",
    "    dates = natl[played][:,3] # needles\n",
    "    st = set(dates)\n",
    "    date_indicies = ([i for i, e in enumerate(all_dates) if e in st])\n",
    "    other_days = ([i for i, e in enumerate(all_dates) if e not in st])\n",
    "\n",
    "    # list of dates\n",
    "\n",
    "    day_gsw_televised = natl[date_indicies]\n",
    "    day_not_televised = natl[other_days]\n",
    "\n",
    "#     print(\"National Ratings season to season: \\n \\n \")\n",
    "    lGSW = []\n",
    "    lAll = []\n",
    "    lTEAM = []\n",
    "    lTEAM_without = []\n",
    "    lOther_Days = []\n",
    "    \n",
    "\n",
    "    for season in xticks:\n",
    "\n",
    "        all_year = natl[:,0]==season\n",
    "        all_NoNBA = natl[:,2]!='NBA TV'\n",
    "        ind1 = np.logical_and(all_NoNBA,all_year)\n",
    "        all_r = natl[ind1][:,9]\n",
    "        all_r = all_r.astype(np.float)\n",
    "\n",
    "\n",
    "        year = day_gsw_televised[:,0]==season\n",
    "        noNBATV = day_gsw_televised[:,2]!='NBA TV'\n",
    "        ind = np.logical_and(year,noNBATV)\n",
    "        no_GSWh = day_gsw_televised[:,7]!=team\n",
    "        no_GSWa = day_gsw_televised[:,8]!=team\n",
    "        no_GSW = np.logical_and(no_GSWh,no_GSWa)\n",
    "        GSW = ~no_GSW\n",
    "        ind4 = np.logical_and(ind,GSW)\n",
    "        ind2 = np.logical_and(no_GSW,ind)\n",
    "\n",
    "        ratings = day_gsw_televised[ind][:,9]\n",
    "        ratings = ratings.astype(np.float)\n",
    "        ratings_noGSW = day_gsw_televised[ind2][:,9]\n",
    "        ratings_noGSW = ratings_noGSW.astype(np.float)\t\n",
    "        ratings_onlyGSW = day_gsw_televised[ind4][:,9]\n",
    "        ratings_onlyGSW = ratings_onlyGSW.astype(np.float)\n",
    "\n",
    "        year = day_not_televised[:,0]==season\n",
    "        noNBA = day_not_televised[:,2]!='NBA TV'\n",
    "        ind = np.logical_and(noNBA,year)\n",
    "        r2 = day_not_televised[ind][:,9]\n",
    "        r2 = r2.astype(np.float)\t\n",
    "\n",
    "        All = np.nanmean(all_r)\n",
    "        TEAM = np.nanmean(ratings)\n",
    "        TEAM_without = np.nanmean(ratings_noGSW)\n",
    "        Other_Days = np.nanmean(r2)\n",
    "\n",
    "        lAll.append(All)\n",
    "        lTEAM.append(TEAM)\n",
    "        lTEAM_without.append(TEAM_without)\n",
    "        lOther_Days.append(Other_Days)\t\n",
    "        lGSW.append(np.nanmean(ratings_onlyGSW))\n",
    "        \n",
    "        \n",
    "    for i in range(4):\n",
    "        data_dict['Season'].append(xticks[i])\n",
    "        data_dict['Team'].append(team)\n",
    "        data_dict['Nat\\'l Average'].append(lAll[i])\n",
    "        data_dict['Avg Rating Same Night'].append(lTEAM[i])\n",
    "        data_dict['Team Average Rating'].append(lGSW[i])\n",
    "        data_dict['Delta Avg'].append(lTEAM[i]-lAll[i])"
   ]
  },
  {
   "cell_type": "code",
   "execution_count": null,
   "metadata": {},
   "outputs": [],
   "source": [
    "dataFrame = pd.DataFrame(data=data_dict)\n",
    "dataFrame = dataFrame[[\"Season\",\"Team\",\"Team Average Rating\",\"Avg Rating Same Night\", \"Nat'l Average\", \"Delta Avg\"]]\n",
    "df = dataFrame.sort_values([\"Season\",\"Team\"])\n",
    "df.to_csv('../natl_ratings.csv')"
   ]
  },
  {
   "cell_type": "code",
   "execution_count": null,
   "metadata": {},
   "outputs": [],
   "source": [
    "df"
   ]
  },
  {
   "cell_type": "code",
   "execution_count": null,
   "metadata": {},
   "outputs": [],
   "source": []
  }
 ],
 "metadata": {
  "kernelspec": {
   "display_name": "Python 3",
   "language": "python",
   "name": "python3"
  },
  "language_info": {
   "codemirror_mode": {
    "name": "ipython",
    "version": 3
   },
   "file_extension": ".py",
   "mimetype": "text/x-python",
   "name": "python",
   "nbconvert_exporter": "python",
   "pygments_lexer": "ipython3",
   "version": "3.5.2"
  }
 },
 "nbformat": 4,
 "nbformat_minor": 2
}
