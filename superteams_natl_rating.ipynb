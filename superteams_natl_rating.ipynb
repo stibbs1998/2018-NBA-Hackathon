{
 "cells": [
  {
   "cell_type": "markdown",
   "metadata": {},
   "source": [
    "# Ideas\n",
    "* Days super team plays $\\checkmark$\n",
    "* Super team avgs\n",
    "* Average of super team duals\n",
    "* Days super teams don't play $\\checkmark$\n",
    "* Average of rating no super teams"
   ]
  },
  {
   "cell_type": "markdown",
   "metadata": {},
   "source": [
    "### Read in Data"
   ]
  },
  {
   "cell_type": "code",
   "execution_count": null,
   "metadata": {},
   "outputs": [],
   "source": [
    "import numpy as np\n",
    "import pandas as pd\n",
    "import matplotlib.pyplot as plt\n",
    "%matplotlib notebook"
   ]
  },
  {
   "cell_type": "code",
   "execution_count": null,
   "metadata": {},
   "outputs": [],
   "source": [
    "super_flag = pd.read_csv('lm_dataset.csv')  # read in Ernest's super team flagger"
   ]
  },
  {
   "cell_type": "code",
   "execution_count": null,
   "metadata": {},
   "outputs": [],
   "source": [
    "inds = super_flag[\"superteam_flg\"]==1\n",
    "superteams = super_flag[inds] # lists the qualifying superteams"
   ]
  },
  {
   "cell_type": "code",
   "execution_count": null,
   "metadata": {},
   "outputs": [],
   "source": [
    "natl = pd.read_csv('natl_ratings.csv')"
   ]
  },
  {
   "cell_type": "code",
   "execution_count": null,
   "metadata": {},
   "outputs": [],
   "source": [
    "with_nbatv = pd.read_csv('National_Ratings_by_Game.csv') # all games\n",
    "game_by_game = with_nbatv[with_nbatv[\"Network\"]!=\"NBA TV\"] # NBA TV removed\n",
    "# game_by_game.head()"
   ]
  },
  {
   "cell_type": "markdown",
   "metadata": {},
   "source": [
    "### Sort"
   ]
  },
  {
   "cell_type": "code",
   "execution_count": null,
   "metadata": {},
   "outputs": [],
   "source": [
    "st_index = game_by_game[((   game_by_game[\"Home\"].isin(superteams[\"Team\"]) |\n",
    "                         game_by_game[\"Away\"].isin(superteams[\"Team\"])  ) &\n",
    "                         game_by_game[\"Season\"].isin(superteams[\"Season\"]))]  # Finds games super teams are televised"
   ]
  },
  {
   "cell_type": "code",
   "execution_count": null,
   "metadata": {},
   "outputs": [],
   "source": [
    "dates = st_index[\"Date\"].unique() # list of all dates with nat'l televised super team games"
   ]
  },
  {
   "cell_type": "code",
   "execution_count": null,
   "metadata": {},
   "outputs": [],
   "source": [
    "superteam_days = game_by_game[\"Date\"].isin(dates) # bool-picks out days superteams are televised \n",
    "non_superteam_days = ~superteam_days # opposite of above\n",
    "\n",
    "gg_st = game_by_game[superteam_days] # all games televised the same night as a superteam\n",
    "gg_other = game_by_game[non_superteam_days] # all games televised without a superteam on that night"
   ]
  },
  {
   "cell_type": "code",
   "execution_count": null,
   "metadata": {},
   "outputs": [],
   "source": [
    "sameday_average = gg_st.groupby(\"Season\").agg('mean')\n",
    "otherday_average = gg_other.groupby(\"Season\").agg('mean')"
   ]
  },
  {
   "cell_type": "code",
   "execution_count": null,
   "metadata": {},
   "outputs": [],
   "source": [
    "all_games_averages  = game_by_game.groupby(\"Season\").agg('mean')\n",
    "st_avgs = st_index.groupby(\"Season\").agg('mean')"
   ]
  },
  {
   "cell_type": "code",
   "execution_count": null,
   "metadata": {},
   "outputs": [],
   "source": [
    "other_avg = gg_other.groupby(\"Season\").agg('mean') # Days super teams are not televised"
   ]
  },
  {
   "cell_type": "code",
   "execution_count": null,
   "metadata": {},
   "outputs": [],
   "source": []
  }
 ],
 "metadata": {
  "kernelspec": {
   "display_name": "Python 3",
   "language": "python",
   "name": "python3"
  },
  "language_info": {
   "codemirror_mode": {
    "name": "ipython",
    "version": 3
   },
   "file_extension": ".py",
   "mimetype": "text/x-python",
   "name": "python",
   "nbconvert_exporter": "python",
   "pygments_lexer": "ipython3",
   "version": "3.5.2"
  }
 },
 "nbformat": 4,
 "nbformat_minor": 2
}
