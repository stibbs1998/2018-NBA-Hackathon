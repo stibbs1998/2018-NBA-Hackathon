{
 "cells": [
  {
   "cell_type": "markdown",
   "metadata": {},
   "source": [
    "# Ideas\n",
    "* Days super team plays $\\checkmark$\n",
    "* Super team avgs $\\checkmark$\n",
    "* Average of super team duals\n",
    "* Days super teams don't play $\\checkmark$\n",
    "* Average of rating no super teams $\\checkmark$"
   ]
  },
  {
   "cell_type": "markdown",
   "metadata": {},
   "source": [
    "### Read in Data"
   ]
  },
  {
   "cell_type": "code",
   "execution_count": null,
   "metadata": {
    "collapsed": true
   },
   "outputs": [],
   "source": [
    "import numpy as np\n",
    "import pandas as pd\n",
    "import matplotlib.pyplot as plt\n",
    "import seaborn as sns\n",
    "%matplotlib inline"
   ]
  },
  {
   "cell_type": "code",
   "execution_count": null,
   "metadata": {
    "collapsed": true
   },
   "outputs": [],
   "source": [
    "super_flag = pd.read_csv('lm_dataset.csv')  # read in Ernest's super team flagger"
   ]
  },
  {
   "cell_type": "code",
   "execution_count": null,
   "metadata": {
    "collapsed": true
   },
   "outputs": [],
   "source": [
    "inds = super_flag[\"superteam_flg\"]==1\n",
    "superteams = super_flag[inds] # lists the qualifying superteams\n",
    "# superteams[[\"Season\",\"Team\"]]"
   ]
  },
  {
   "cell_type": "code",
   "execution_count": null,
   "metadata": {
    "collapsed": true
   },
   "outputs": [],
   "source": [
    "natl = pd.read_csv('natl_ratings.csv')"
   ]
  },
  {
   "cell_type": "code",
   "execution_count": null,
   "metadata": {
    "collapsed": true
   },
   "outputs": [],
   "source": [
    "with_nbatv = pd.read_csv('National_Ratings_by_Game.csv') # all games\n",
    "game_by_game = with_nbatv #[with_nbatv[\"Network\"]!=\"NBA TV\"] # NBA TV removed\n",
    "# game_by_game.head()"
   ]
  },
  {
   "cell_type": "markdown",
   "metadata": {},
   "source": [
    "### Sort"
   ]
  },
  {
   "cell_type": "code",
   "execution_count": null,
   "metadata": {
    "collapsed": true
   },
   "outputs": [],
   "source": [
    "st_index = pd.DataFrame()\n",
    "\n",
    "y = '2014-15'\n",
    "\n",
    "filter1 = game_by_game[\"Home\"].isin(superteams[superteams['Season']==y][\"Team\"]) \n",
    "filter2 = game_by_game[\"Away\"].isin(superteams[superteams['Season']==y][\"Team\"])\n",
    "filter3 = game_by_game[\"Season\"]==y\n",
    "master_filter = (filter1|filter2)&filter3\n",
    "other_filter = (~filter1&~filter2)&filter3\n",
    "y1 = game_by_game[master_filter]\n",
    "y1o = game_by_game[other_filter]\n",
    "\n",
    "y = '2015-16'\n",
    "\n",
    "filter1 = game_by_game[\"Home\"].isin(superteams[superteams['Season']==y][\"Team\"]) \n",
    "filter2 = game_by_game[\"Away\"].isin(superteams[superteams['Season']==y][\"Team\"])\n",
    "filter3 = game_by_game[\"Season\"]==y\n",
    "master_filter = (filter1|filter2)&filter3\n",
    "other_filter = (~filter1&~filter2)&filter3\n",
    "\n",
    "y2 = game_by_game[master_filter]\n",
    "y2o = game_by_game[other_filter]\n",
    "\n",
    "y = '2016-17'\n",
    "\n",
    "filter1 = game_by_game[\"Home\"].isin(superteams[superteams['Season']==y][\"Team\"]) \n",
    "filter2 = game_by_game[\"Away\"].isin(superteams[superteams['Season']==y][\"Team\"])\n",
    "filter3 = game_by_game[\"Season\"]==y\n",
    "master_filter = (filter1|filter2)&filter3\n",
    "other_filter = (~filter1&~filter2)&filter3\n",
    "\n",
    "y3 = game_by_game[master_filter]\n",
    "y3o = game_by_game[other_filter]\n",
    "\n",
    "\n",
    "y = '2017-18'\n",
    "\n",
    "filter1 = game_by_game[\"Home\"].isin(superteams[superteams['Season']==y][\"Team\"]) \n",
    "filter2 = game_by_game[\"Away\"].isin(superteams[superteams['Season']==y][\"Team\"])\n",
    "filter3 = game_by_game[\"Season\"]==y\n",
    "master_filter = (filter1|filter2)&filter3\n",
    "other_filter = (~filter1&~filter2)&filter3\n",
    "y4 = game_by_game[master_filter]\n",
    "y4o = game_by_game[other_filter]\n",
    "\n",
    "\n",
    "frames = [y1,y2,y3,y4]\n",
    "st_index = pd.concat(frames)\n",
    "frames = [y1o,y2o,y3o,y4o]\n",
    "other_index = pd.concat(frames)"
   ]
  },
  {
   "cell_type": "code",
   "execution_count": null,
   "metadata": {
    "collapsed": true
   },
   "outputs": [],
   "source": [
    "# other_index"
   ]
  },
  {
   "cell_type": "code",
   "execution_count": null,
   "metadata": {
    "collapsed": true
   },
   "outputs": [],
   "source": [
    "dates = st_index[\"Date\"].unique() # list of all dates with nat'l televised super team games\n",
    "# dates"
   ]
  },
  {
   "cell_type": "code",
   "execution_count": null,
   "metadata": {
    "collapsed": true
   },
   "outputs": [],
   "source": [
    "superteam_days = game_by_game[\"Date\"].isin(dates) # bool-picks out days superteams are televised \n",
    "non_superteam_days = ~superteam_days # opposite of above\n",
    "\n",
    "gg_st = game_by_game[superteam_days] # all games televised the same night as a superteam\n",
    "gg_other = game_by_game[non_superteam_days] # all games televised without a superteam on that night"
   ]
  },
  {
   "cell_type": "code",
   "execution_count": null,
   "metadata": {
    "collapsed": true
   },
   "outputs": [],
   "source": [
    "sameday_average = gg_st.groupby(\"Season\").agg('mean') # National Average of all games broadcast on same night\n",
    "                                                      # as a super team (this does include super team's game)"
   ]
  },
  {
   "cell_type": "code",
   "execution_count": null,
   "metadata": {},
   "outputs": [],
   "source": [
    "y = '2014-15'\n",
    "filter1 = gg_st[\"Home\"].isin(superteams[superteams['Season']==y][\"Team\"]) \n",
    "filter2 = gg_st[\"Away\"].isin(superteams[superteams['Season']==y][\"Team\"])\n",
    "filter3 = gg_st[\"Season\"]==y\n",
    "same_day_no_super = (~filter1&~filter2)&filter3\n",
    "s1 = gg_st[same_day_no_super]\n",
    "\n",
    "y = '2015-16'\n",
    "filter1 = gg_st[\"Home\"].isin(superteams[superteams['Season']==y][\"Team\"]) \n",
    "filter2 = gg_st[\"Away\"].isin(superteams[superteams['Season']==y][\"Team\"])\n",
    "filter3 = gg_st[\"Season\"]==y\n",
    "same_day_no_super = (~filter1&~filter2)&filter3\n",
    "s2 = gg_st[same_day_no_super]\n",
    "\n",
    "y = '2016-17'\n",
    "filter1 = gg_st[\"Home\"].isin(superteams[superteams['Season']==y][\"Team\"]) \n",
    "filter2 = gg_st[\"Away\"].isin(superteams[superteams['Season']==y][\"Team\"])\n",
    "filter3 = gg_st[\"Season\"]==y\n",
    "same_day_no_super = (~filter1&~filter2)&filter3\n",
    "s3 = gg_st[same_day_no_super]\n",
    "\n",
    "y = '2017-18'\n",
    "filter1 = gg_st[\"Home\"].isin(superteams[superteams['Season']==y][\"Team\"]) \n",
    "filter2 = gg_st[\"Away\"].isin(superteams[superteams['Season']==y][\"Team\"])\n",
    "filter3 = gg_st[\"Season\"]==y\n",
    "same_day_no_super = (~filter1&~filter2)&filter3\n",
    "s4 = gg_st[same_day_no_super]\n",
    "\n",
    "frames = [s1,s2,s3,s4]\n",
    "sameday_avg_st_rem = pd.concat(frames)"
   ]
  },
  {
   "cell_type": "code",
   "execution_count": null,
   "metadata": {},
   "outputs": [],
   "source": [
    "sameday_avg_st_rem"
   ]
  },
  {
   "cell_type": "code",
   "execution_count": null,
   "metadata": {
    "collapsed": true
   },
   "outputs": [],
   "source": []
  },
  {
   "cell_type": "code",
   "execution_count": null,
   "metadata": {
    "collapsed": true
   },
   "outputs": [],
   "source": []
  },
  {
   "cell_type": "code",
   "execution_count": null,
   "metadata": {
    "collapsed": true
   },
   "outputs": [],
   "source": []
  },
  {
   "cell_type": "code",
   "execution_count": null,
   "metadata": {
    "collapsed": true
   },
   "outputs": [],
   "source": [
    "sameday_count = gg_st.groupby(\"Season\").agg('count') # Number of these games"
   ]
  },
  {
   "cell_type": "code",
   "execution_count": null,
   "metadata": {
    "collapsed": true
   },
   "outputs": [],
   "source": [
    "all_games_averages  = game_by_game.groupby(\"Season\").agg('mean') # National Average of national ratings\n",
    "\n",
    "all_games_count = game_by_game.groupby(\"Season\").agg('count') # Number of televised games per year\n",
    "\n",
    "st_avgs = st_index.groupby(\"Season\").agg('mean') # Average rating of games super teams are televised\n",
    "\n",
    "st_count = st_index.groupby(\"Season\").agg('count') # Number of games super teams are televised"
   ]
  },
  {
   "cell_type": "code",
   "execution_count": null,
   "metadata": {
    "collapsed": true
   },
   "outputs": [],
   "source": [
    "other_avg = gg_other.groupby(\"Season\").agg('mean') # Average rating of days super teams are not televised\n",
    "\n",
    "other_count = gg_other.groupby(\"Season\").agg('count') # Number of games televised on nights super teams don't play"
   ]
  },
  {
   "cell_type": "code",
   "execution_count": null,
   "metadata": {
    "collapsed": true
   },
   "outputs": [],
   "source": [
    "avg_o = other_avg[\"National_Rating\"]\n",
    "\n",
    "avg_s = st_avgs[\"National_Rating\"]\n",
    "\n",
    "avg_same = sameday_average[\"National_Rating\"]\n",
    "\n",
    "avg_all = all_games_averages[\"National_Rating\"]"
   ]
  },
  {
   "cell_type": "code",
   "execution_count": null,
   "metadata": {
    "collapsed": true
   },
   "outputs": [],
   "source": [
    "averages = pd.DataFrame(data={\"Nat'l_Average\":avg_all, \"n_Games_Nat'l\":all_games_count[\"Home\"],\n",
    "                             \"Avg_Same_Day_ST\":avg_same, \"n_Games_Same_Day\":sameday_count[\"Home\"], \n",
    "                              \"Avg_Other_Day_ST\":avg_o, \"n_Games_Other\":other_count[\"Home\"],\n",
    "                             \"Avg_ST\":avg_s, \"n_Games_ST\":st_count[\"Home\"]})\n",
    "\n",
    "col_order = [\"Nat'l_Average\", \"n_Games_Nat'l\",\"Avg_Same_Day_ST\",\"n_Games_Same_Day\",\n",
    "            \"Avg_Other_Day_ST\",\"n_Games_Other\",\"Avg_ST\",\"n_Games_ST\"]\n",
    "\n",
    "averages = averages[col_order].reset_index()"
   ]
  },
  {
   "cell_type": "markdown",
   "metadata": {},
   "source": [
    "### Plots"
   ]
  },
  {
   "cell_type": "code",
   "execution_count": null,
   "metadata": {},
   "outputs": [],
   "source": [
    "s_order = ['2014-15','2015-16','2016-17','2017-18']\n",
    "sns.boxplot(x=\"Season\",y=\"National_Rating\",data=game_by_game,order=s_order)\n",
    "plt.title('TV Ratings for Nationally Televised Games')\n",
    "plt.ylim(0,6)\n",
    "plt.savefig('../Downloads/box1.png')\n",
    "plt.show()"
   ]
  },
  {
   "cell_type": "code",
   "execution_count": null,
   "metadata": {},
   "outputs": [],
   "source": [
    "sns.boxplot(x=\"Season\",y=\"National_Rating\",data=st_index,order=s_order)\n",
    "plt.title('National TV Rating for SuperTeams')\n",
    "plt.ylim(0,6)\n",
    "plt.savefig('box2.png')\n",
    "plt.show()"
   ]
  },
  {
   "cell_type": "code",
   "execution_count": null,
   "metadata": {},
   "outputs": [],
   "source": [
    "sns.boxplot(x=\"Season\",y=\"National_Rating\",data=gg_other,order=s_order)\n",
    "plt.title(\"National Ratings on Nights SuperTeam isn't Televised\")\n",
    "plt.ylim(0,4.4)\n",
    "plt.savefig('box3.png')\n",
    "plt.show()\n"
   ]
  },
  {
   "cell_type": "code",
   "execution_count": null,
   "metadata": {},
   "outputs": [],
   "source": [
    "sns.boxplot(x=\"Season\",y=\"National_Rating\",data=other_index,order=s_order)\n",
    "plt.title(\"Ratings of Nat'l Televised Games b/w Non-SuperTeams\")\n",
    "plt.ylim(0,6)\n",
    "plt.savefig('box4.png')\n",
    "plt.show()\n"
   ]
  },
  {
   "cell_type": "code",
   "execution_count": null,
   "metadata": {},
   "outputs": [],
   "source": [
    "sns.boxplot(x=\"Season\",y=\"National_Rating\", order = s_order, data=sameday_avg_st_rem)\n",
    "plt.title(\"Ratings of Nationally Televised Games on Nights Super Teams Play\")\n",
    "plt.ylim(0,4.4)\n",
    "plt.savefig('box5.png')\n",
    "plt.show()"
   ]
  }
 ],
 "metadata": {
  "kernelspec": {
   "display_name": "Python 3",
   "language": "python",
   "name": "python3"
  },
  "language_info": {
   "codemirror_mode": {
    "name": "ipython",
    "version": 3
   },
   "file_extension": ".py",
   "mimetype": "text/x-python",
   "name": "python",
   "nbconvert_exporter": "python",
   "pygments_lexer": "ipython3",
   "version": "3.6.3"
  }
 },
 "nbformat": 4,
 "nbformat_minor": 2
}
